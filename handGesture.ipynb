{
 "cells": [
  {
   "cell_type": "code",
   "execution_count": 4,
   "id": "ca9fc72a",
   "metadata": {},
   "outputs": [],
   "source": [
    "import glob\n",
    "import numpy as np\n",
    "import pickle\n",
    "from scipy import ndimage as ndimage\n",
    "from sklearn.model_selection import train_test_split\n",
    "import matplotlib.pyplot as plt\n",
    "from matplotlib import image\n",
    "import os\n",
    "import random\n",
    "import matplotlib.animation as animation\n",
    "import collections"
   ]
  },
  {
   "cell_type": "code",
   "execution_count": 5,
   "id": "017349ad",
   "metadata": {},
   "outputs": [],
   "source": [
    "def resize_gestures(input_gestures, final_length=100):\n",
    "\n",
    "    output_gestures = np.array([np.array([ndimage.zoom(x_i.T[j], final_length / len(x_i), mode='reflect') for j in range(np.size(x_i, 1))]).T for x_i in input_gestures])\n",
    "    return output_gestures"
   ]
  },
  {
   "cell_type": "code",
   "execution_count": 6,
   "id": "512f9a1c",
   "metadata": {},
   "outputs": [],
   "source": [
    "def load_gestures(root, resize_gesture_to_length=100):\n",
    "   \n",
    "  \n",
    "    pattern = root + '/DHG/DHG2016/gesture_*/finger_*/subject_*/essai_*/skeleton_image.txt'\n",
    "\n",
    "    gestures_filenames = sorted(glob.glob(pattern))\n",
    "   \n",
    "    gestures = [np.genfromtxt(f) for f in gestures_filenames]\n",
    "    if resize_gesture_to_length is not None:\n",
    "        gestures = resize_gestures(gestures, final_length=resize_gesture_to_length)\n",
    "\n",
    "    labels_14 = [int(filename.split('/')[-5].split('_')[1]) for filename in gestures_filenames]\n",
    "\n",
    "    return gestures, labels_14, gestures_filenames"
   ]
  },
  {
   "cell_type": "code",
   "execution_count": 7,
   "id": "27426fb8",
   "metadata": {},
   "outputs": [],
   "source": [
    "gestures, labels_14, gestures_filenames = load_gestures(root=os.path.abspath(os.getcwd()),\n",
    "                                     resize_gesture_to_length=100)"
   ]
  },
  {
   "cell_type": "code",
   "execution_count": 8,
   "id": "5bc2f302",
   "metadata": {},
   "outputs": [],
   "source": [
    "gestures = np.array(gestures)"
   ]
  },
  {
   "cell_type": "code",
   "execution_count": 9,
   "id": "4e465c65",
   "metadata": {},
   "outputs": [],
   "source": [
    "X_train, X_test, y_train, y_test = train_test_split(gestures,labels_14, test_size=0.3 )"
   ]
  },
  {
   "cell_type": "code",
   "execution_count": 10,
   "id": "44dad795",
   "metadata": {},
   "outputs": [
    {
     "data": {
      "text/plain": [
       "(840, 100, 44)"
      ]
     },
     "execution_count": 10,
     "metadata": {},
     "output_type": "execute_result"
    }
   ],
   "source": [
    "X_test.shape"
   ]
  },
  {
   "cell_type": "code",
   "execution_count": 11,
   "id": "9e472ea7",
   "metadata": {},
   "outputs": [],
   "source": [
    "y_train = np.array(y_train)\n",
    "y_test = np.array(y_test)"
   ]
  },
  {
   "cell_type": "code",
   "execution_count": 12,
   "id": "5396d0a7",
   "metadata": {},
   "outputs": [
    {
     "data": {
      "text/plain": [
       "14"
      ]
     },
     "execution_count": 12,
     "metadata": {},
     "output_type": "execute_result"
    }
   ],
   "source": [
    "max(y_train)"
   ]
  },
  {
   "cell_type": "code",
   "execution_count": 13,
   "id": "4ebb2c32",
   "metadata": {},
   "outputs": [
    {
     "name": "stderr",
     "output_type": "stream",
     "text": [
      "2022-09-22 02:47:03.459199: W tensorflow/stream_executor/platform/default/dso_loader.cc:64] Could not load dynamic library 'libcudart.so.11.0'; dlerror: libcudart.so.11.0: cannot open shared object file: No such file or directory\n",
      "2022-09-22 02:47:03.459232: I tensorflow/stream_executor/cuda/cudart_stub.cc:29] Ignore above cudart dlerror if you do not have a GPU set up on your machine.\n"
     ]
    }
   ],
   "source": [
    "from tensorflow.keras.utils import to_categorical"
   ]
  },
  {
   "cell_type": "code",
   "execution_count": 14,
   "id": "1abe3629",
   "metadata": {},
   "outputs": [],
   "source": [
    "y_train = to_categorical(y_train, 15)"
   ]
  },
  {
   "cell_type": "code",
   "execution_count": 15,
   "id": "2efc4759",
   "metadata": {},
   "outputs": [],
   "source": [
    "y_test = to_categorical(y_test, 15)"
   ]
  },
  {
   "cell_type": "code",
   "execution_count": 16,
   "id": "cded4e3e",
   "metadata": {},
   "outputs": [],
   "source": [
    "from keras.models import Sequential\n",
    "from keras.layers import Conv2D, MaxPooling2D,Dense,Flatten, TimeDistributed,Dropout\n",
    "import keras.layers"
   ]
  },
  {
   "cell_type": "code",
   "execution_count": 17,
   "id": "61b6b2b8",
   "metadata": {},
   "outputs": [],
   "source": [
    "import keras.backend as K"
   ]
  },
  {
   "cell_type": "code",
   "execution_count": 18,
   "id": "912778a4",
   "metadata": {},
   "outputs": [],
   "source": [
    "img_size = X_train[0].shape\n",
    "if K.image_data_format() == 'channels_first':\n",
    "    X_train = X_train.reshape(X_train.shape[0],1, 100, 44)\n",
    "    X_test = X_test.reshape(X_test.shape[0],1, 100, 44)\n",
    "else:\n",
    "    X_train = X_train.reshape(X_train.shape[0], 100, 44, 1)\n",
    "    X_test = X_test.reshape(X_test.shape[0], 100, 44, 1)"
   ]
  },
  {
   "cell_type": "code",
   "execution_count": 19,
   "id": "54bf3301",
   "metadata": {},
   "outputs": [
    {
     "data": {
      "text/plain": [
       "(100, 44, 1)"
      ]
     },
     "execution_count": 19,
     "metadata": {},
     "output_type": "execute_result"
    }
   ],
   "source": [
    "input_shape1 = X_train.shape[1:]\n",
    "input_shape1"
   ]
  },
  {
   "cell_type": "code",
   "execution_count": 20,
   "id": "17c237ee",
   "metadata": {},
   "outputs": [],
   "source": [
    "import tensorflow as tf"
   ]
  },
  {
   "cell_type": "code",
   "execution_count": 21,
   "id": "de9fba73",
   "metadata": {},
   "outputs": [
    {
     "name": "stderr",
     "output_type": "stream",
     "text": [
      "2022-09-22 02:47:05.752952: W tensorflow/stream_executor/platform/default/dso_loader.cc:64] Could not load dynamic library 'libcuda.so.1'; dlerror: libcuda.so.1: cannot open shared object file: No such file or directory\n",
      "2022-09-22 02:47:05.752995: W tensorflow/stream_executor/cuda/cuda_driver.cc:269] failed call to cuInit: UNKNOWN ERROR (303)\n",
      "2022-09-22 02:47:05.753032: I tensorflow/stream_executor/cuda/cuda_diagnostics.cc:156] kernel driver does not appear to be running on this host (ubuntu): /proc/driver/nvidia/version does not exist\n",
      "2022-09-22 02:47:05.753397: I tensorflow/core/platform/cpu_feature_guard.cc:193] This TensorFlow binary is optimized with oneAPI Deep Neural Network Library (oneDNN) to use the following CPU instructions in performance-critical operations:  AVX2 FMA\n",
      "To enable them in other operations, rebuild TensorFlow with the appropriate compiler flags.\n"
     ]
    },
    {
     "name": "stdout",
     "output_type": "stream",
     "text": [
      "Model: \"sequential\"\n",
      "_________________________________________________________________\n",
      " Layer (type)                Output Shape              Param #   \n",
      "=================================================================\n",
      " conv2d (Conv2D)             (None, 100, 44, 8)        80        \n",
      "                                                                 \n",
      " conv2d_1 (Conv2D)           (None, 100, 44, 8)        584       \n",
      "                                                                 \n",
      " max_pooling2d (MaxPooling2D  (None, 50, 22, 8)        0         \n",
      " )                                                               \n",
      "                                                                 \n",
      " conv2d_2 (Conv2D)           (None, 50, 22, 16)        1168      \n",
      "                                                                 \n",
      " conv2d_3 (Conv2D)           (None, 50, 22, 16)        2320      \n",
      "                                                                 \n",
      " max_pooling2d_1 (MaxPooling  (None, 25, 11, 16)       0         \n",
      " 2D)                                                             \n",
      "                                                                 \n",
      " conv2d_4 (Conv2D)           (None, 25, 11, 32)        4640      \n",
      "                                                                 \n",
      " conv2d_5 (Conv2D)           (None, 25, 11, 32)        9248      \n",
      "                                                                 \n",
      " max_pooling2d_2 (MaxPooling  (None, 12, 5, 32)        0         \n",
      " 2D)                                                             \n",
      "                                                                 \n",
      " dropout (Dropout)           (None, 12, 5, 32)         0         \n",
      "                                                                 \n",
      " time_distributed (TimeDistr  (None, 12, 160)          0         \n",
      " ibuted)                                                         \n",
      "                                                                 \n",
      " lstm (LSTM)                 (None, 128)               147968    \n",
      "                                                                 \n",
      " dense (Dense)               (None, 128)               16512     \n",
      "                                                                 \n",
      " dropout_1 (Dropout)         (None, 128)               0         \n",
      "                                                                 \n",
      " dense_1 (Dense)             (None, 128)               16512     \n",
      "                                                                 \n",
      " dropout_2 (Dropout)         (None, 128)               0         \n",
      "                                                                 \n",
      " dense_2 (Dense)             (None, 15)                1935      \n",
      "                                                                 \n",
      "=================================================================\n",
      "Total params: 200,967\n",
      "Trainable params: 200,967\n",
      "Non-trainable params: 0\n",
      "_________________________________________________________________\n"
     ]
    }
   ],
   "source": [
    "model = Sequential()\n",
    "model.add(Conv2D(8, kernel_size=(3,3), strides = (1,1), padding='same', activation = 'relu',input_shape = input_shape1))\n",
    "model.add(Conv2D(8, kernel_size=(3,3), strides = (1,1), padding='same', activation = 'relu'))\n",
    "model.add(MaxPooling2D(pool_size=(2,2)))\n",
    "\n",
    "model.add(Conv2D(16, kernel_size=(3,3), strides = (1,1), padding='same', activation = 'relu'))\n",
    "model.add(Conv2D(16, kernel_size=(3,3), strides = (1,1), padding='same', activation = 'relu'))\n",
    "model.add(MaxPooling2D(pool_size=(2,2)))\n",
    "\n",
    "model.add(Conv2D(32, kernel_size=(3,3), strides = (1,1), padding='same', activation = 'relu'))\n",
    "model.add(Conv2D(32, kernel_size=(3,3), strides = (1,1), padding='same', activation = 'relu'))\n",
    "model.add(MaxPooling2D(pool_size=(2,2)))\n",
    "\n",
    "model.add(Dropout(0.5))\n",
    "model.add(TimeDistributed(Flatten()))\n",
    "\n",
    "model.add(tf.keras.layers.LSTM(units =  128 ,activation = 'relu'))\n",
    "\n",
    "\n",
    "\n",
    "model.add(Dense(units= 128, activation = 'relu'))\n",
    "\n",
    "model.add(Dropout(0.2))\n",
    "model.add(Dense(units= 128, activation = 'relu'))\n",
    "\n",
    "model.add(Dropout(0.2))\n",
    "model.add(Dense(units= 15, activation = 'softmax'))\n",
    "\n",
    "\n",
    "\n",
    "model.summary()\n",
    "\n"
   ]
  },
  {
   "cell_type": "code",
   "execution_count": 22,
   "id": "af5cdb70",
   "metadata": {},
   "outputs": [],
   "source": [
    "model.compile(optimizer='adam', loss = 'categorical_crossentropy', metrics=['accuracy'])"
   ]
  },
  {
   "cell_type": "code",
   "execution_count": 23,
   "id": "c0e6dc3d",
   "metadata": {},
   "outputs": [
    {
     "name": "stdout",
     "output_type": "stream",
     "text": [
      "Epoch 1/100\n",
      "25/25 [==============================] - 12s 347ms/step - loss: 3.5872 - accuracy: 0.0606 - val_loss: 2.6807 - val_accuracy: 0.0842\n",
      "Epoch 2/100\n",
      "25/25 [==============================] - 10s 396ms/step - loss: 2.6535 - accuracy: 0.1020 - val_loss: 2.6063 - val_accuracy: 0.1327\n",
      "Epoch 3/100\n",
      "25/25 [==============================] - 8s 313ms/step - loss: 2.5852 - accuracy: 0.1276 - val_loss: 2.4722 - val_accuracy: 0.1582\n",
      "Epoch 4/100\n",
      "25/25 [==============================] - 8s 306ms/step - loss: 2.4817 - accuracy: 0.1569 - val_loss: 2.4402 - val_accuracy: 0.2219\n",
      "Epoch 5/100\n",
      "25/25 [==============================] - 8s 321ms/step - loss: 2.3680 - accuracy: 0.2085 - val_loss: 2.1485 - val_accuracy: 0.2959\n",
      "Epoch 6/100\n",
      "25/25 [==============================] - 8s 310ms/step - loss: 2.1866 - accuracy: 0.2570 - val_loss: 1.9047 - val_accuracy: 0.3724\n",
      "Epoch 7/100\n",
      "25/25 [==============================] - 8s 309ms/step - loss: 2.0788 - accuracy: 0.2844 - val_loss: 1.8230 - val_accuracy: 0.4005\n",
      "Epoch 8/100\n",
      "25/25 [==============================] - 7s 295ms/step - loss: 1.9473 - accuracy: 0.3304 - val_loss: 1.7447 - val_accuracy: 0.4311\n",
      "Epoch 9/100\n",
      "25/25 [==============================] - 7s 294ms/step - loss: 1.8458 - accuracy: 0.3648 - val_loss: 1.6151 - val_accuracy: 0.4643\n",
      "Epoch 10/100\n",
      "25/25 [==============================] - 8s 326ms/step - loss: 1.7412 - accuracy: 0.3954 - val_loss: 1.4249 - val_accuracy: 0.4974\n",
      "Epoch 11/100\n",
      "25/25 [==============================] - 8s 304ms/step - loss: 1.6548 - accuracy: 0.4235 - val_loss: 1.3293 - val_accuracy: 0.5357\n",
      "Epoch 12/100\n",
      "25/25 [==============================] - 8s 313ms/step - loss: 1.5189 - accuracy: 0.4643 - val_loss: 1.4224 - val_accuracy: 0.5204\n",
      "Epoch 13/100\n",
      "25/25 [==============================] - 8s 332ms/step - loss: 1.4277 - accuracy: 0.4994 - val_loss: 1.2212 - val_accuracy: 0.5867\n",
      "Epoch 14/100\n",
      "25/25 [==============================] - 9s 345ms/step - loss: 1.3331 - accuracy: 0.5548 - val_loss: 1.1433 - val_accuracy: 0.5893\n",
      "Epoch 15/100\n",
      "25/25 [==============================] - 9s 361ms/step - loss: 1.2782 - accuracy: 0.5619 - val_loss: 1.0352 - val_accuracy: 0.6250\n",
      "Epoch 16/100\n",
      "25/25 [==============================] - 12s 466ms/step - loss: 1.1740 - accuracy: 0.5976 - val_loss: 1.0537 - val_accuracy: 0.6378\n",
      "Epoch 17/100\n",
      "25/25 [==============================] - 11s 436ms/step - loss: 1.1125 - accuracy: 0.6116 - val_loss: 1.0317 - val_accuracy: 0.6327\n",
      "Epoch 18/100\n",
      "25/25 [==============================] - 9s 375ms/step - loss: 1.1137 - accuracy: 0.6180 - val_loss: 1.0347 - val_accuracy: 0.6658\n",
      "Epoch 19/100\n",
      "25/25 [==============================] - 10s 386ms/step - loss: 1.0311 - accuracy: 0.6460 - val_loss: 0.9515 - val_accuracy: 0.6582\n",
      "Epoch 20/100\n",
      "25/25 [==============================] - 7s 290ms/step - loss: 0.9701 - accuracy: 0.6671 - val_loss: 1.0368 - val_accuracy: 0.6709\n",
      "Epoch 21/100\n",
      "25/25 [==============================] - 7s 289ms/step - loss: 0.9220 - accuracy: 0.6671 - val_loss: 0.8616 - val_accuracy: 0.7296\n",
      "Epoch 22/100\n",
      "25/25 [==============================] - 7s 296ms/step - loss: 0.9075 - accuracy: 0.6881 - val_loss: 0.9033 - val_accuracy: 0.6913\n",
      "Epoch 23/100\n",
      "25/25 [==============================] - 8s 320ms/step - loss: 0.8996 - accuracy: 0.6824 - val_loss: 0.8361 - val_accuracy: 0.7321\n",
      "Epoch 24/100\n",
      "25/25 [==============================] - 8s 307ms/step - loss: 0.8123 - accuracy: 0.7111 - val_loss: 0.8987 - val_accuracy: 0.7245\n",
      "Epoch 25/100\n",
      "25/25 [==============================] - 8s 311ms/step - loss: 0.8143 - accuracy: 0.7124 - val_loss: 0.8141 - val_accuracy: 0.7270\n",
      "Epoch 26/100\n",
      "25/25 [==============================] - 7s 294ms/step - loss: 0.8163 - accuracy: 0.7188 - val_loss: 0.9326 - val_accuracy: 0.6939\n",
      "Epoch 27/100\n",
      "25/25 [==============================] - 8s 308ms/step - loss: 0.8131 - accuracy: 0.7404 - val_loss: 0.8628 - val_accuracy: 0.6939\n",
      "Epoch 28/100\n",
      "25/25 [==============================] - 7s 297ms/step - loss: 0.7659 - accuracy: 0.7334 - val_loss: 0.8245 - val_accuracy: 0.7500\n",
      "Epoch 29/100\n",
      "25/25 [==============================] - 7s 290ms/step - loss: 0.7045 - accuracy: 0.7615 - val_loss: 0.8516 - val_accuracy: 0.7449\n",
      "Epoch 30/100\n",
      "25/25 [==============================] - 7s 299ms/step - loss: 0.6902 - accuracy: 0.7570 - val_loss: 0.9082 - val_accuracy: 0.7092\n",
      "Epoch 31/100\n",
      "25/25 [==============================] - 8s 309ms/step - loss: 0.7153 - accuracy: 0.7736 - val_loss: 0.7422 - val_accuracy: 0.7577\n",
      "Epoch 32/100\n",
      "25/25 [==============================] - 8s 305ms/step - loss: 0.7077 - accuracy: 0.7640 - val_loss: 0.9072 - val_accuracy: 0.7372\n",
      "Epoch 33/100\n",
      "25/25 [==============================] - 7s 282ms/step - loss: 0.6358 - accuracy: 0.7679 - val_loss: 0.7467 - val_accuracy: 0.7577\n",
      "Epoch 34/100\n",
      "25/25 [==============================] - 8s 314ms/step - loss: 0.5795 - accuracy: 0.8055 - val_loss: 0.8499 - val_accuracy: 0.7296\n",
      "Epoch 35/100\n",
      "25/25 [==============================] - 11s 443ms/step - loss: 0.6056 - accuracy: 0.7761 - val_loss: 0.7558 - val_accuracy: 0.7526\n",
      "Epoch 36/100\n",
      "25/25 [==============================] - 8s 304ms/step - loss: 0.5624 - accuracy: 0.8048 - val_loss: 0.7796 - val_accuracy: 0.7526\n",
      "Epoch 37/100\n",
      "25/25 [==============================] - 7s 285ms/step - loss: 0.6103 - accuracy: 0.7838 - val_loss: 0.7057 - val_accuracy: 0.7755\n",
      "Epoch 38/100\n",
      "25/25 [==============================] - 11s 430ms/step - loss: 0.5919 - accuracy: 0.7991 - val_loss: 0.7704 - val_accuracy: 0.7551\n",
      "Epoch 39/100\n",
      "25/25 [==============================] - 9s 340ms/step - loss: 0.5091 - accuracy: 0.8182 - val_loss: 0.8386 - val_accuracy: 0.7628\n",
      "Epoch 40/100\n",
      "25/25 [==============================] - 8s 306ms/step - loss: 0.5399 - accuracy: 0.8055 - val_loss: 0.7798 - val_accuracy: 0.7730\n",
      "Epoch 41/100\n",
      "25/25 [==============================] - 7s 296ms/step - loss: 0.4644 - accuracy: 0.8329 - val_loss: 0.8337 - val_accuracy: 0.7653\n",
      "Epoch 42/100\n",
      "25/25 [==============================] - 8s 314ms/step - loss: 0.4871 - accuracy: 0.8272 - val_loss: 0.8276 - val_accuracy: 0.7628\n",
      "Epoch 43/100\n",
      "25/25 [==============================] - 8s 318ms/step - loss: 0.5040 - accuracy: 0.8304 - val_loss: 1.1055 - val_accuracy: 0.7015\n",
      "Epoch 44/100\n",
      "25/25 [==============================] - 8s 317ms/step - loss: 0.5040 - accuracy: 0.8278 - val_loss: 0.8349 - val_accuracy: 0.7781\n",
      "Epoch 45/100\n",
      "25/25 [==============================] - 8s 313ms/step - loss: 0.4221 - accuracy: 0.8533 - val_loss: 0.7693 - val_accuracy: 0.7781\n",
      "Epoch 46/100\n",
      "25/25 [==============================] - 7s 295ms/step - loss: 0.4913 - accuracy: 0.8208 - val_loss: 0.7694 - val_accuracy: 0.7908\n",
      "Epoch 47/100\n",
      "25/25 [==============================] - 7s 295ms/step - loss: 0.4845 - accuracy: 0.8259 - val_loss: 0.8324 - val_accuracy: 0.7602\n",
      "Epoch 48/100\n",
      "25/25 [==============================] - 7s 280ms/step - loss: 0.4035 - accuracy: 0.8610 - val_loss: 0.7745 - val_accuracy: 0.7730\n",
      "Epoch 49/100\n",
      "25/25 [==============================] - 7s 297ms/step - loss: 0.3971 - accuracy: 0.8744 - val_loss: 0.8010 - val_accuracy: 0.7934\n",
      "Epoch 50/100\n",
      "25/25 [==============================] - 8s 307ms/step - loss: 0.3623 - accuracy: 0.8750 - val_loss: 0.8977 - val_accuracy: 0.7602\n",
      "Epoch 51/100\n",
      "25/25 [==============================] - 7s 298ms/step - loss: 0.4159 - accuracy: 0.8559 - val_loss: 0.9128 - val_accuracy: 0.7704\n",
      "Epoch 52/100\n",
      "25/25 [==============================] - 8s 307ms/step - loss: 0.4324 - accuracy: 0.8495 - val_loss: 0.9326 - val_accuracy: 0.7704\n",
      "Epoch 53/100\n",
      "25/25 [==============================] - 15s 585ms/step - loss: 0.4374 - accuracy: 0.8444 - val_loss: 0.9092 - val_accuracy: 0.7883\n",
      "Epoch 54/100\n",
      "25/25 [==============================] - 13s 525ms/step - loss: 0.4095 - accuracy: 0.8565 - val_loss: 0.8421 - val_accuracy: 0.7755\n",
      "Epoch 55/100\n",
      "25/25 [==============================] - 13s 505ms/step - loss: 0.3460 - accuracy: 0.8833 - val_loss: 0.9054 - val_accuracy: 0.7628\n",
      "Epoch 56/100\n",
      "25/25 [==============================] - 12s 496ms/step - loss: 0.3680 - accuracy: 0.8782 - val_loss: 0.8066 - val_accuracy: 0.7781\n",
      "Epoch 57/100\n",
      "25/25 [==============================] - 12s 484ms/step - loss: 0.3506 - accuracy: 0.8782 - val_loss: 0.8795 - val_accuracy: 0.7857\n"
     ]
    },
    {
     "name": "stdout",
     "output_type": "stream",
     "text": [
      "Epoch 58/100\n",
      "25/25 [==============================] - 12s 475ms/step - loss: 0.3496 - accuracy: 0.8731 - val_loss: 0.8168 - val_accuracy: 0.7985\n",
      "Epoch 59/100\n",
      "25/25 [==============================] - 12s 499ms/step - loss: 0.3056 - accuracy: 0.8941 - val_loss: 0.7995 - val_accuracy: 0.8138\n",
      "Epoch 60/100\n",
      "25/25 [==============================] - 12s 501ms/step - loss: 0.3546 - accuracy: 0.8750 - val_loss: 0.8350 - val_accuracy: 0.7781\n",
      "Epoch 61/100\n",
      "25/25 [==============================] - 12s 481ms/step - loss: 0.3217 - accuracy: 0.8897 - val_loss: 0.8039 - val_accuracy: 0.7781\n",
      "Epoch 62/100\n",
      "25/25 [==============================] - 12s 481ms/step - loss: 0.2727 - accuracy: 0.9062 - val_loss: 1.1405 - val_accuracy: 0.7474\n",
      "Epoch 63/100\n",
      "25/25 [==============================] - 15s 622ms/step - loss: 0.4284 - accuracy: 0.8559 - val_loss: 0.8028 - val_accuracy: 0.7806\n",
      "Epoch 64/100\n",
      "25/25 [==============================] - 14s 568ms/step - loss: 0.3260 - accuracy: 0.8973 - val_loss: 0.9230 - val_accuracy: 0.7653\n",
      "Epoch 65/100\n",
      "25/25 [==============================] - 12s 463ms/step - loss: 0.3126 - accuracy: 0.8858 - val_loss: 1.0409 - val_accuracy: 0.7628\n",
      "Epoch 66/100\n",
      "25/25 [==============================] - 12s 475ms/step - loss: 0.2860 - accuracy: 0.8929 - val_loss: 0.8217 - val_accuracy: 0.8087\n",
      "Epoch 67/100\n",
      "25/25 [==============================] - 12s 467ms/step - loss: 0.2939 - accuracy: 0.8986 - val_loss: 0.7337 - val_accuracy: 0.8010\n",
      "Epoch 68/100\n",
      "25/25 [==============================] - 12s 484ms/step - loss: 0.2827 - accuracy: 0.8941 - val_loss: 0.7416 - val_accuracy: 0.7985\n",
      "Epoch 69/100\n",
      "25/25 [==============================] - 13s 511ms/step - loss: 0.2866 - accuracy: 0.9056 - val_loss: 0.7131 - val_accuracy: 0.8138\n",
      "Epoch 70/100\n",
      "25/25 [==============================] - 13s 539ms/step - loss: 0.2589 - accuracy: 0.9114 - val_loss: 0.8487 - val_accuracy: 0.7985\n",
      "Epoch 71/100\n",
      "25/25 [==============================] - 14s 544ms/step - loss: 0.3289 - accuracy: 0.8941 - val_loss: 0.8227 - val_accuracy: 0.7781\n",
      "Epoch 72/100\n",
      "25/25 [==============================] - 19s 772ms/step - loss: 0.2529 - accuracy: 0.9120 - val_loss: 0.7934 - val_accuracy: 0.8087\n",
      "Epoch 73/100\n",
      "25/25 [==============================] - 19s 741ms/step - loss: 0.3074 - accuracy: 0.9005 - val_loss: 0.7471 - val_accuracy: 0.7959\n",
      "Epoch 74/100\n",
      "25/25 [==============================] - 18s 736ms/step - loss: 0.3001 - accuracy: 0.8935 - val_loss: 0.6866 - val_accuracy: 0.8112\n",
      "Epoch 75/100\n",
      "25/25 [==============================] - 18s 728ms/step - loss: 0.2597 - accuracy: 0.9082 - val_loss: 0.7716 - val_accuracy: 0.8112\n",
      "Epoch 76/100\n",
      "25/25 [==============================] - 17s 664ms/step - loss: 0.2126 - accuracy: 0.9279 - val_loss: 0.7965 - val_accuracy: 0.8112\n",
      "Epoch 77/100\n",
      "25/25 [==============================] - 17s 671ms/step - loss: 0.2296 - accuracy: 0.9247 - val_loss: 0.8256 - val_accuracy: 0.7908\n",
      "Epoch 78/100\n",
      "25/25 [==============================] - 13s 537ms/step - loss: 0.2410 - accuracy: 0.9209 - val_loss: 0.7964 - val_accuracy: 0.7959\n",
      "Epoch 79/100\n",
      "25/25 [==============================] - 9s 345ms/step - loss: 0.1995 - accuracy: 0.9311 - val_loss: 0.8529 - val_accuracy: 0.8010\n",
      "Epoch 80/100\n",
      "25/25 [==============================] - 10s 399ms/step - loss: 0.1968 - accuracy: 0.9362 - val_loss: 0.8911 - val_accuracy: 0.7934\n",
      "Epoch 81/100\n",
      "25/25 [==============================] - 10s 406ms/step - loss: 0.2165 - accuracy: 0.9279 - val_loss: 0.8968 - val_accuracy: 0.7959\n",
      "Epoch 82/100\n",
      "25/25 [==============================] - 9s 347ms/step - loss: 0.1967 - accuracy: 0.9247 - val_loss: 1.0014 - val_accuracy: 0.7806\n",
      "Epoch 83/100\n",
      "25/25 [==============================] - 9s 372ms/step - loss: 0.2377 - accuracy: 0.9254 - val_loss: 0.7789 - val_accuracy: 0.7985\n",
      "Epoch 84/100\n",
      "25/25 [==============================] - 8s 323ms/step - loss: 0.2295 - accuracy: 0.9228 - val_loss: 0.7876 - val_accuracy: 0.8087\n",
      "Epoch 85/100\n",
      "25/25 [==============================] - 8s 333ms/step - loss: 0.1907 - accuracy: 0.9362 - val_loss: 0.9986 - val_accuracy: 0.7857\n",
      "Epoch 86/100\n",
      "25/25 [==============================] - 8s 327ms/step - loss: 0.2212 - accuracy: 0.9292 - val_loss: 0.9742 - val_accuracy: 0.7857\n",
      "Epoch 87/100\n",
      "25/25 [==============================] - 7s 289ms/step - loss: 0.2930 - accuracy: 0.9062 - val_loss: 0.8936 - val_accuracy: 0.7883\n",
      "Epoch 88/100\n",
      "25/25 [==============================] - 8s 323ms/step - loss: 0.1938 - accuracy: 0.9394 - val_loss: 0.8773 - val_accuracy: 0.7985\n",
      "Epoch 89/100\n",
      "25/25 [==============================] - 8s 337ms/step - loss: 0.1583 - accuracy: 0.9413 - val_loss: 1.0175 - val_accuracy: 0.8061\n",
      "Epoch 90/100\n",
      "25/25 [==============================] - 8s 327ms/step - loss: 0.1484 - accuracy: 0.9515 - val_loss: 0.9282 - val_accuracy: 0.8112\n",
      "Epoch 91/100\n",
      "25/25 [==============================] - 7s 296ms/step - loss: 0.1717 - accuracy: 0.9381 - val_loss: 1.0588 - val_accuracy: 0.8112\n",
      "Epoch 92/100\n",
      "25/25 [==============================] - 7s 300ms/step - loss: 0.2174 - accuracy: 0.9343 - val_loss: 0.8775 - val_accuracy: 0.7934\n",
      "Epoch 93/100\n",
      "25/25 [==============================] - 7s 291ms/step - loss: 0.1860 - accuracy: 0.9394 - val_loss: 0.9165 - val_accuracy: 0.8112\n",
      "Epoch 94/100\n",
      "25/25 [==============================] - 8s 302ms/step - loss: 0.1480 - accuracy: 0.9483 - val_loss: 0.8153 - val_accuracy: 0.8189\n",
      "Epoch 95/100\n",
      "25/25 [==============================] - 8s 310ms/step - loss: 0.1534 - accuracy: 0.9458 - val_loss: 0.8302 - val_accuracy: 0.8010\n",
      "Epoch 96/100\n",
      "25/25 [==============================] - 7s 297ms/step - loss: 0.1841 - accuracy: 0.9375 - val_loss: 0.8559 - val_accuracy: 0.7832\n",
      "Epoch 97/100\n",
      "25/25 [==============================] - 7s 298ms/step - loss: 0.1884 - accuracy: 0.9394 - val_loss: 0.8543 - val_accuracy: 0.7934\n",
      "Epoch 98/100\n",
      "25/25 [==============================] - 7s 291ms/step - loss: 0.1620 - accuracy: 0.9445 - val_loss: 0.9170 - val_accuracy: 0.8010\n",
      "Epoch 99/100\n",
      "25/25 [==============================] - 7s 298ms/step - loss: 0.1574 - accuracy: 0.9560 - val_loss: 0.9072 - val_accuracy: 0.7959\n",
      "Epoch 100/100\n",
      "25/25 [==============================] - 7s 299ms/step - loss: 0.1468 - accuracy: 0.9515 - val_loss: 0.8853 - val_accuracy: 0.8214\n"
     ]
    }
   ],
   "source": [
    "history = model.fit(X_train, y_train, batch_size= 64,epochs=100, validation_split=0.2)"
   ]
  },
  {
   "cell_type": "code",
   "execution_count": 24,
   "id": "0a62fd2c",
   "metadata": {},
   "outputs": [
    {
     "data": {
      "text/plain": [
       "[<matplotlib.lines.Line2D at 0x7ff830589840>]"
      ]
     },
     "execution_count": 24,
     "metadata": {},
     "output_type": "execute_result"
    },
    {
     "data": {
      "image/png": "[encoded data removed]",
      "text/plain": [
       "<Figure size 432x288 with 1 Axes>"
      ]
     },
     "metadata": {
      "needs_background": "light"
     },
     "output_type": "display_data"
    }
   ],
   "source": [
    "plt.plot(history.epoch, history.history['loss'])\n",
    "plt.plot(history.epoch, history.history['val_loss'])"
   ]
  },
  {
   "cell_type": "code",
   "execution_count": 25,
   "id": "77395412",
   "metadata": {},
   "outputs": [
    {
     "data": {
      "text/plain": [
       "[<matplotlib.lines.Line2D at 0x7ff84b57c790>]"
      ]
     },
     "execution_count": 25,
     "metadata": {},
     "output_type": "execute_result"
    },
    {
     "data": {
      "image/png": "[encoded data removed]",
      "text/plain": [
       "<Figure size 432x288 with 1 Axes>"
      ]
     },
     "metadata": {
      "needs_background": "light"
     },
     "output_type": "display_data"
    }
   ],
   "source": [
    "plt.plot(history.epoch, history.history['accuracy'])\n",
    "plt.plot(history.epoch, history.history['val_accuracy'])"
   ]
  },
  {
   "cell_type": "code",
   "execution_count": 26,
   "id": "c85d9d53",
   "metadata": {},
   "outputs": [
    {
     "name": "stdout",
     "output_type": "stream",
     "text": [
      "27/27 [==============================] - 1s 37ms/step - loss: 0.9789 - accuracy: 0.7667\n"
     ]
    },
    {
     "data": {
      "text/plain": [
       "[0.9789353013038635, 0.7666666507720947]"
      ]
     },
     "execution_count": 26,
     "metadata": {},
     "output_type": "execute_result"
    }
   ],
   "source": [
    "model.evaluate(X_test, y_test)"
   ]
  },
  {
   "cell_type": "code",
   "execution_count": 27,
   "id": "51e7018e",
   "metadata": {},
   "outputs": [],
   "source": [
    "from sklearn.metrics import confusion_matrix,classification_report"
   ]
  },
  {
   "cell_type": "code",
   "execution_count": 28,
   "id": "2dfed102",
   "metadata": {},
   "outputs": [
    {
     "name": "stdout",
     "output_type": "stream",
     "text": [
      "27/27 [==============================] - 1s 37ms/step\n"
     ]
    },
    {
     "data": {
      "text/plain": [
       "array([[33,  7,  0, 10,  0,  1,  0,  1,  1,  1,  0,  0,  0,  1],\n",
       "       [ 5, 41,  1,  2,  0,  0,  0,  0,  1,  8,  0,  0,  0,  3],\n",
       "       [ 0,  1, 40,  0,  1,  1,  0,  0,  7,  0,  0,  0,  0,  0],\n",
       "       [21,  2,  0, 37,  0,  2,  0,  0,  3,  2,  0,  0,  0,  0],\n",
       "       [ 4,  4,  1,  2, 41,  0,  3,  1,  0,  1,  0,  0,  0,  1],\n",
       "       [ 0,  1,  0,  0,  0, 53,  0,  1,  0,  1,  0,  0,  0,  0],\n",
       "       [ 1,  0,  3,  0,  0,  0, 48,  1,  3,  0,  0,  3,  7,  0],\n",
       "       [ 0,  0,  0,  1,  1,  0,  1, 37,  1,  9,  1,  2,  0,  0],\n",
       "       [ 0,  0,  4,  0,  1,  1,  3,  0, 46,  0,  0,  3,  1,  2],\n",
       "       [ 5,  7,  0,  0,  0,  2,  0,  5,  0, 50,  0,  2,  0,  0],\n",
       "       [ 0,  0,  0,  0,  0,  0,  2,  2,  0,  0, 50,  1,  6,  0],\n",
       "       [ 0,  0,  0,  0,  0,  0,  0,  0,  2,  0,  0, 61,  2,  0],\n",
       "       [ 0,  0,  0,  0,  0,  0,  3,  0,  3,  0,  0,  0, 57,  0],\n",
       "       [ 0,  0,  0,  1,  1,  0,  0,  0,  1,  0,  0,  0,  0, 50]])"
      ]
     },
     "execution_count": 28,
     "metadata": {},
     "output_type": "execute_result"
    }
   ],
   "source": [
    "y_true = np.argmax(y_test, axis = 1)\n",
    "y_pred = np.argmax(model.predict(X_test), axis = 1)\n",
    "\n",
    "confusion_matrix(y_true, y_pred)"
   ]
  },
  {
   "cell_type": "code",
   "execution_count": 29,
   "id": "1fdcf026",
   "metadata": {},
   "outputs": [
    {
     "name": "stdout",
     "output_type": "stream",
     "text": [
      "              precision    recall  f1-score   support\n",
      "\n",
      "           1       0.48      0.60      0.53        55\n",
      "           2       0.65      0.67      0.66        61\n",
      "           3       0.82      0.80      0.81        50\n",
      "           4       0.70      0.55      0.62        67\n",
      "           5       0.91      0.71      0.80        58\n",
      "           6       0.88      0.95      0.91        56\n",
      "           7       0.80      0.73      0.76        66\n",
      "           8       0.77      0.70      0.73        53\n",
      "           9       0.68      0.75      0.71        61\n",
      "          10       0.69      0.70      0.70        71\n",
      "          11       0.98      0.82      0.89        61\n",
      "          12       0.85      0.94      0.89        65\n",
      "          13       0.78      0.90      0.84        63\n",
      "          14       0.88      0.94      0.91        53\n",
      "\n",
      "    accuracy                           0.77       840\n",
      "   macro avg       0.78      0.77      0.77       840\n",
      "weighted avg       0.77      0.77      0.77       840\n",
      "\n"
     ]
    }
   ],
   "source": [
    "print(classification_report(y_true, y_pred))"
   ]
  },
  {
   "cell_type": "code",
   "execution_count": null,
   "id": "73a5b9da",
   "metadata": {},
   "outputs": [],
   "source": []
  },
  {
   "cell_type": "markdown",
   "id": "5092ed28",
   "metadata": {},
   "source": [
    "# Misclassified instances analysis"
   ]
  },
  {
   "cell_type": "code",
   "execution_count": 30,
   "id": "1c161caa",
   "metadata": {},
   "outputs": [],
   "source": [
    "classes = ['Grab', 'Tap', 'Expand', 'Pinch', 'Rotation CW', 'Rotation CCW', 'Swipe Right', 'Swipe Left', 'Swipe Up',\n",
    "          'Swipe Down', 'Swipe X', 'Swipe V', 'Swipe +', 'Shake']"
   ]
  },
  {
   "cell_type": "code",
   "execution_count": 31,
   "id": "06eb3b72",
   "metadata": {},
   "outputs": [
    {
     "name": "stdout",
     "output_type": "stream",
     "text": [
      " 2/88 [..............................] - ETA: 4s"
     ]
    },
    {
     "name": "stderr",
     "output_type": "stream",
     "text": [
      "2022-09-22 03:03:12.759000: W tensorflow/core/framework/cpu_allocator_impl.cc:82] Allocation of 49280000 exceeds 10% of free system memory.\n"
     ]
    },
    {
     "name": "stdout",
     "output_type": "stream",
     "text": [
      "88/88 [==============================] - 4s 47ms/step\n"
     ]
    }
   ],
   "source": [
    "img_size = gestures[0].shape\n",
    "if K.image_data_format() == 'channels_first':\n",
    "    gesutres = gestures.reshape(gestures.shape[0],1, 100, 44)\n",
    "else:\n",
    "    gestures = gestures.reshape(gestures.shape[0], 100, 44, 1)\n",
    "    \n",
    "\n",
    "y_true = np.array(labels_14)\n",
    "y_pred = np.argmax(model.predict(gestures), axis = 1)"
   ]
  },
  {
   "cell_type": "code",
   "execution_count": 32,
   "id": "59a7ad62",
   "metadata": {},
   "outputs": [],
   "source": [
    "errors = []\n",
    "for i in range(gestures.shape[0]):\n",
    "    true_class = y_true[i]\n",
    "    pred_class = y_pred[i]\n",
    "    if true_class != pred_class:\n",
    "        errors.append(i)"
   ]
  },
  {
   "cell_type": "code",
   "execution_count": 33,
   "id": "7bd86619",
   "metadata": {},
   "outputs": [],
   "source": [
    "def load_images_from_folder(folder):\n",
    "    images = []\n",
    "    mapa = {}\n",
    "    for fileName in os.listdir(folder):\n",
    "        if \"depth\" in fileName:\n",
    "            niz = fileName.split('_')\n",
    "            broj = niz[1].split('.')[0]\n",
    "                        \n",
    "            img = image.imread(os.path.join(folder,fileName))\n",
    "            if img is not None:\n",
    "                mapa[int(broj)] = img\n",
    "               \n",
    "    return mapa"
   ]
  },
  {
   "cell_type": "code",
   "execution_count": 38,
   "id": "8e2ac5b7",
   "metadata": {},
   "outputs": [],
   "source": [
    "randGest = random.choice(errors)\n",
    "\n",
    "# dir path to specific gesture from errors \n",
    "# exmpl ../DHG/DHG2016/gesture_1/finger_2/subject_14/essai_5\n",
    "gestPath = gestures_filenames[randGest]\n",
    "lastDash = gestPath.rfind('/')\n",
    "trueGesturePath = gestPath[:lastDash]\n",
    "\n",
    "\n",
    "images = load_images_from_folder(trueGesturePath)\n",
    "images = collections.OrderedDict(sorted(images.items()))\n",
    "\n",
    "listImages = []\n",
    "for key, value in images.items():\n",
    "    listImages.append(value)"
   ]
  },
  {
   "cell_type": "code",
   "execution_count": 39,
   "id": "7b76882e",
   "metadata": {},
   "outputs": [
    {
     "name": "stdout",
     "output_type": "stream",
     "text": [
      "..........."
     ]
    },
    {
     "data": {
      "image/png": "[encoded data removed]",
      "text/plain": [
       "<Figure size 576x576 with 1 Axes>"
      ]
     },
     "metadata": {
      "needs_background": "light"
     },
     "output_type": "display_data"
    }
   ],
   "source": [
    "fps = 30\n",
    "fig = plt.figure( figsize=(8,8) )\n",
    "\n",
    "a = listImages[0]\n",
    "im = plt.imshow(a)\n",
    "\n",
    "\n",
    "def animate_func(i):\n",
    "    if i % fps == 0:\n",
    "        print( '.', end ='' )\n",
    "    \n",
    "    im.set_array(listImages[i-1])\n",
    "    return [im]\n",
    "\n",
    "anim = animation.FuncAnimation(\n",
    "                               fig, \n",
    "                               animate_func, \n",
    "                               frames = len(listImages),\n",
    "                               interval = 1000 / fps, # in ms\n",
    "                               )\n",
    "\n",
    "true = classes[y_true[randGest]-1]\n",
    "predicted = classes[y_pred[randGest] -1]\n",
    "naslov = \"True class: {}\\n Predicted class: {}.\".format(true, predicted)\n",
    "plt.title(naslov)\n",
    "from IPython.display import HTML\n",
    "HTML(anim.to_jshtml())\n",
    "#writergif = animation.PillowWriter(fps=30) \n",
    "#anim.save('TrueExpand_PredTap.gif', writer=writergif)"
   ]
  }
 ],
 "metadata": {
  "kernelspec": {
   "display_name": "Python 3 (ipykernel)",
   "language": "python",
   "name": "python3"
  },
  "language_info": {
   "codemirror_mode": {
    "name": "ipython",
    "version": 3
   },
   "file_extension": ".py",
   "mimetype": "text/x-python",
   "name": "python",
   "nbconvert_exporter": "python",
   "pygments_lexer": "ipython3",
   "version": "3.10.4"
  }
 },
 "nbformat": 4,
 "nbformat_minor": 5
}
