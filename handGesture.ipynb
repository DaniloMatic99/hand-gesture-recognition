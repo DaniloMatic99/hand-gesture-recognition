{
 "cells": [
  {
   "cell_type": "code",
   "execution_count": 1,
   "id": "ea76fe7f",
   "metadata": {},
   "outputs": [],
   "source": [
    "import glob\n",
    "import numpy as np\n",
    "import pickle\n",
    "from scipy import ndimage as ndimage\n",
    "from sklearn.model_selection import train_test_split\n",
    "import matplotlib.pyplot as plt\n",
    "import os"
   ]
  },
  {
   "cell_type": "code",
   "execution_count": 2,
   "id": "edf7051b",
   "metadata": {},
   "outputs": [],
   "source": [
    "def resize_gestures(input_gestures, final_length=100):\n",
    "\n",
    "    output_gestures = np.array([np.array([ndimage.zoom(x_i.T[j], final_length / len(x_i), mode='reflect') for j in range(np.size(x_i, 1))]).T for x_i in input_gestures])\n",
    "    return output_gestures"
   ]
  },
  {
   "cell_type": "code",
   "execution_count": 10,
   "id": "667ab6f5",
   "metadata": {},
   "outputs": [],
   "source": [
    "def load_gestures(root, resize_gesture_to_length=100):\n",
    "   \n",
    "  \n",
    "    pattern = root + '/DHG/DHG2016/gesture_*/finger_*/subject_*/essai_*/skeleton_image.txt'\n",
    "\n",
    "    gestures_filenames = sorted(glob.glob(pattern))\n",
    "   \n",
    "    gestures = [np.genfromtxt(f) for f in gestures_filenames]\n",
    "    if resize_gesture_to_length is not None:\n",
    "        gestures = resize_gestures(gestures, final_length=resize_gesture_to_length)\n",
    "\n",
    "    labels_14 = [int(filename.split('/')[-5].split('_')[1]) for filename in gestures_filenames]\n",
    "\n",
    "    return gestures, labels_14"
   ]
  },
  {
   "cell_type": "code",
   "execution_count": 9,
   "id": "062c8a4b",
   "metadata": {},
   "outputs": [
    {
     "data": {
      "text/plain": [
       "'/home/matic/Documents/4. godina/RI/PROJEKATGIT/hand-gesture-recognition'"
      ]
     },
     "execution_count": 9,
     "metadata": {},
     "output_type": "execute_result"
    }
   ],
   "source": [
    "os.path.abspath(os.getcwd())"
   ]
  },
  {
   "cell_type": "code",
   "execution_count": 11,
   "id": "4fa8c53f",
   "metadata": {},
   "outputs": [],
   "source": [
    "gestures, labels_14 = load_gestures(root=os.path.abspath(os.getcwd()),\n",
    "                                     resize_gesture_to_length=100)"
   ]
  },
  {
   "cell_type": "code",
   "execution_count": 13,
   "id": "ce6b6b4e",
   "metadata": {},
   "outputs": [],
   "source": [
    "gestures = np.array(gestures)"
   ]
  },
  {
   "cell_type": "code",
   "execution_count": 14,
   "id": "07d7029c",
   "metadata": {},
   "outputs": [],
   "source": [
    "X_train, X_test, y_train, y_test = train_test_split(gestures,labels_14, test_size=0.3 )"
   ]
  },
  {
   "cell_type": "code",
   "execution_count": 15,
   "id": "c8092323",
   "metadata": {},
   "outputs": [
    {
     "data": {
      "text/plain": [
       "(840, 100, 44)"
      ]
     },
     "execution_count": 15,
     "metadata": {},
     "output_type": "execute_result"
    }
   ],
   "source": [
    "X_test.shape"
   ]
  },
  {
   "cell_type": "code",
   "execution_count": 16,
   "id": "42db6548",
   "metadata": {},
   "outputs": [],
   "source": [
    "y_train = np.array(y_train)\n",
    "y_test = np.array(y_test)"
   ]
  },
  {
   "cell_type": "code",
   "execution_count": 17,
   "id": "f7665ccb",
   "metadata": {},
   "outputs": [
    {
     "data": {
      "text/plain": [
       "14"
      ]
     },
     "execution_count": 17,
     "metadata": {},
     "output_type": "execute_result"
    }
   ],
   "source": [
    "max(y_train)"
   ]
  },
  {
   "cell_type": "code",
   "execution_count": 18,
   "id": "fa8664fe",
   "metadata": {},
   "outputs": [
    {
     "name": "stderr",
     "output_type": "stream",
     "text": [
      "2022-09-15 21:18:18.476189: W tensorflow/stream_executor/platform/default/dso_loader.cc:64] Could not load dynamic library 'libcudart.so.11.0'; dlerror: libcudart.so.11.0: cannot open shared object file: No such file or directory\n",
      "2022-09-15 21:18:18.476219: I tensorflow/stream_executor/cuda/cudart_stub.cc:29] Ignore above cudart dlerror if you do not have a GPU set up on your machine.\n"
     ]
    }
   ],
   "source": [
    "from tensorflow.keras.utils import to_categorical"
   ]
  },
  {
   "cell_type": "code",
   "execution_count": 19,
   "id": "6873ab02",
   "metadata": {},
   "outputs": [],
   "source": [
    "y_train = to_categorical(y_train, 15)"
   ]
  },
  {
   "cell_type": "code",
   "execution_count": 20,
   "id": "d428d765",
   "metadata": {},
   "outputs": [],
   "source": [
    "y_test = to_categorical(y_test, 15)"
   ]
  },
  {
   "cell_type": "code",
   "execution_count": 21,
   "id": "4d161eb2",
   "metadata": {},
   "outputs": [],
   "source": [
    "from keras.models import Sequential\n",
    "from keras.layers import Conv2D, MaxPooling2D,Dense,Flatten, TimeDistributed,Dropout\n",
    "import keras.layers"
   ]
  },
  {
   "cell_type": "code",
   "execution_count": 22,
   "id": "c1cbf5aa",
   "metadata": {},
   "outputs": [],
   "source": [
    "import keras.backend as K"
   ]
  },
  {
   "cell_type": "code",
   "execution_count": 23,
   "id": "8b992faf",
   "metadata": {},
   "outputs": [],
   "source": [
    "img_size = X_train[0].shape\n",
    "if K.image_data_format() == 'channels_first':\n",
    "    X_train = X_train.reshape(X_train.shape[0],1, 100, 44)\n",
    "    X_test = X_test.reshape(X_test.shape[0],1, 100, 44)\n",
    "else:\n",
    "    X_train = X_train.reshape(X_train.shape[0], 100, 44, 1)\n",
    "    X_test = X_test.reshape(X_test.shape[0], 100, 44, 1)"
   ]
  },
  {
   "cell_type": "code",
   "execution_count": 24,
   "id": "b4b266dc",
   "metadata": {},
   "outputs": [
    {
     "data": {
      "text/plain": [
       "(100, 44, 1)"
      ]
     },
     "execution_count": 24,
     "metadata": {},
     "output_type": "execute_result"
    }
   ],
   "source": [
    "input_shape1 = X_train.shape[1:]\n",
    "input_shape1"
   ]
  },
  {
   "cell_type": "code",
   "execution_count": 25,
   "id": "14e10dad",
   "metadata": {},
   "outputs": [],
   "source": [
    "import tensorflow as tf"
   ]
  },
  {
   "cell_type": "code",
   "execution_count": null,
   "id": "da40c6d0",
   "metadata": {},
   "outputs": [],
   "source": []
  },
  {
   "cell_type": "code",
   "execution_count": null,
   "id": "b076a03f",
   "metadata": {},
   "outputs": [],
   "source": []
  },
  {
   "cell_type": "code",
   "execution_count": null,
   "id": "6a02d8df",
   "metadata": {},
   "outputs": [],
   "source": []
  }
 ],
 "metadata": {
  "kernelspec": {
   "display_name": "Python 3 (ipykernel)",
   "language": "python",
   "name": "python3"
  },
  "language_info": {
   "codemirror_mode": {
    "name": "ipython",
    "version": 3
   },
   "file_extension": ".py",
   "mimetype": "text/x-python",
   "name": "python",
   "nbconvert_exporter": "python",
   "pygments_lexer": "ipython3",
   "version": "3.10.4"
  }
 },
 "nbformat": 4,
 "nbformat_minor": 5
}
